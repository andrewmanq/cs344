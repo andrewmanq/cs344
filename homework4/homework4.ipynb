{
 "cells": [
  {
   "cell_type": "markdown",
   "metadata": {},
   "source": [
    "# part 1\n",
    "\n",
    "In some ways, deep neural networks have already become a huge breakthrough. In other ways, they have some shortcomings that might hold them back from becoming the \"perfect solution\" to things like the Turing Test and general intelligence. Deep neural networks have very impressive results: Image recognition with 99 percent accuracy, and winning complex games like GO or Starcraft. However, these processes require extreme lengths of training, and are made to fulfill a very specific goal. It seems perhaps a bit anticlimactic to assume that neural networks are the final answer to the AI endeavor.\n",
    "\n",
    "Perceptrons and Expert systems were promising in theory, but failed to deliver on what their creators claimed they could do. Perceptrons couldn't implement a single XOR function. Expert systems broke after more than a thousand decision trees. Deep neural networks, however, are already delivering on many fronts. As a 3d artist, I never thought I'd see real-time raytracing in 3d rendering for another 5 to 10 years. [NVIDIA has already done so](https://www.youtube.com/watch?v=N9F3z8Fl0Nc) by using a deep convolutional network to denoise a single per-pixel raytrace pass (effectively rendering photo-realistic light simulations at a stable framerate).\n",
    "\n",
    "It also begs the question: will this be the technique used from here on out? Will this be the for() loop that eliminated jumpX calls? I can see a future in which neural networks remain the king of AI solutions. It involves the introduction of faster and fancier hardware that makes google-level data crunching possible to common lay-programmers like me. However, in its current form, deep nerual networks need a lot of training to predict even a few outputs. They rely extremely on correlation and not so much on extrapolation. I think trained neural networks don't have any kind of inquisitive or creative decision making that could be attributed to anything but another complex machine. At the same time, I don't have any better ideas.\n",
    "\n",
    "# part 2\n",
    "\n",
    "## feeding forward\n",
    "\n",
    "multiply input to weights (initialized as small numbers)\n",
    "\n",
    "$\\begin{pmatrix}\n",
    "1 & 1\n",
    "\\end{pmatrix}\n",
    "\\cdot\n",
    "\\begin{pmatrix}\n",
    "0.11 & 0.12 \\\\\n",
    "0.21 & 0.08 \n",
    "\\end{pmatrix}\n",
    "\\cdot\n",
    "\\begin{pmatrix}\n",
    "0.14 \\\\\n",
    "0.15 \n",
    "\\end{pmatrix}$\n",
    "\n",
    "multiplying first and second matrix\n",
    "\n",
    "1*0.11+1*0.21 =\n",
    "\n",
    "1*0.12+1*0.08 ="
   ]
  },
  {
   "cell_type": "code",
   "execution_count": 2,
   "metadata": {},
   "outputs": [
    {
     "name": "stdout",
     "output_type": "stream",
     "text": [
      "0.32\n",
      "0.2\n"
     ]
    }
   ],
   "source": [
    "print(1*0.11+1*0.21)\n",
    "print(1*0.12+1*0.08)"
   ]
  },
  {
   "cell_type": "markdown",
   "metadata": {},
   "source": [
    "now we have\n",
    "\n",
    "$\\begin{pmatrix}\n",
    "0.32 & 0.2\n",
    "\\end{pmatrix}\n",
    "\\cdot\n",
    "\\begin{pmatrix}\n",
    "0.14 \\\\\n",
    "0.15 \n",
    "\\end{pmatrix}$\n",
    "\n",
    "calculates to 0.32 * .14 + 0.2 *0.15"
   ]
  },
  {
   "cell_type": "code",
   "execution_count": 3,
   "metadata": {},
   "outputs": [
    {
     "name": "stdout",
     "output_type": "stream",
     "text": [
      "0.0748\n"
     ]
    }
   ],
   "source": [
    "print(0.32 * .14 + 0.2 *0.15)"
   ]
  },
  {
   "cell_type": "markdown",
   "metadata": {},
   "source": [
    "## error computation\n",
    "\n",
    "using L2 error\n",
    "\n",
    ">target value: 0\n",
    "\n",
    ">what we got: 0.0748\n",
    "\n",
    ">(0 - 0.0748)^2 = 0.0056\n",
    "\n",
    "delta = -0.0748"
   ]
  },
  {
   "cell_type": "markdown",
   "metadata": {},
   "source": [
    "## back propogation\n",
    "\n",
    "with the in class example as my inspiration, the learning rate shall be .05\n",
    "\n",
    "Now we back propogate through the most recent matrix operation\n",
    "\n",
    "$\\begin{pmatrix}\n",
    "0.14 & 0.15\n",
    "\\end{pmatrix}+ .05\n",
    "\\begin{pmatrix}\n",
    "0.32 \\\\\n",
    "0.20\n",
    "\\end{pmatrix}$ * -.0748\n",
    "\n",
    "=\n",
    "\n",
    "$\\begin{pmatrix}\n",
    "0.14 & 0.15\n",
    "\\end{pmatrix}+\n",
    "\\begin{pmatrix}\n",
    "-.001197 \\\\\n",
    "-.00075\n",
    "\\end{pmatrix}$\n",
    "\n",
    "which is"
   ]
  },
  {
   "cell_type": "code",
   "execution_count": 4,
   "metadata": {},
   "outputs": [
    {
     "name": "stdout",
     "output_type": "stream",
     "text": [
      "0.138803\n",
      "0.14925\n"
     ]
    }
   ],
   "source": [
    "print(.14 - .001197)\n",
    "print(.15 - .00075)"
   ]
  },
  {
   "cell_type": "markdown",
   "metadata": {},
   "source": [
    "\n",
    "# part 3"
   ]
  },
  {
   "cell_type": "code",
   "execution_count": 15,
   "metadata": {},
   "outputs": [
    {
     "name": "stdout",
     "output_type": "stream",
     "text": [
      "training images         \n",
      "\tcount: 60000         \n",
      "\tshape: (60000, 28, 28)         \n",
      "\timage data type: uint8         \n",
      "\tlabel data type: uint8\n",
      " testing images         \n",
      "\tcount: 10000         \n",
      "\tshape: (10000, 28, 28)\n",
      "\n"
     ]
    },
    {
     "data": {
      "text/plain": [
       "<matplotlib.image.AxesImage at 0x12fa8441c50>"
      ]
     },
     "execution_count": 15,
     "metadata": {},
     "output_type": "execute_result"
    },
    {
     "data": {
      "image/png": "[encoded data removed]",
      "text/plain": [
       "<Figure size 432x288 with 1 Axes>"
      ]
     },
     "metadata": {
      "needs_background": "light"
     },
     "output_type": "display_data"
    }
   ],
   "source": [
    "from keras import models\n",
    "from keras import layers\n",
    "from keras.datasets import fashion_mnist\n",
    "(train_images, train_labels), (test_images, test_labels) = fashion_mnist.load_data()\n",
    "\n",
    "##outputting the set data\n",
    "print(\n",
    "    f'training images \\\n",
    "        \\n\\tcount: {len(train_labels)} \\\n",
    "        \\n\\tshape: {train_images.shape} \\\n",
    "        \\n\\timage data type: {train_images.dtype} \\\n",
    "        \\n\\tlabel data type: {train_labels.dtype}\\n',\n",
    "    f'testing images \\\n",
    "        \\n\\tcount: {len(test_labels)} \\\n",
    "        \\n\\tshape: {test_images.shape}\\n',\n",
    ")\n",
    "\n",
    "import matplotlib.pyplot as plt\n",
    "\n",
    "#chose this nice stiletto as a shining example\n",
    "digit_image = train_images[11]\n",
    "#display the image\n",
    "plt.imshow(digit_image, cmap=plt.cm.binary)"
   ]
  },
  {
   "cell_type": "code",
   "execution_count": 58,
   "metadata": {},
   "outputs": [
    {
     "name": "stdout",
     "output_type": "stream",
     "text": [
      "_________________________________________________________________\n",
      "Layer (type)                 Output Shape              Param #   \n",
      "=================================================================\n",
      "dense_65 (Dense)             (None, 1024)              803840    \n",
      "_________________________________________________________________\n",
      "dropout_30 (Dropout)         (None, 1024)              0         \n",
      "_________________________________________________________________\n",
      "dense_66 (Dense)             (None, 64)                65600     \n",
      "_________________________________________________________________\n",
      "dense_67 (Dense)             (None, 10)                650       \n",
      "=================================================================\n",
      "Total params: 870,090\n",
      "Trainable params: 870,090\n",
      "Non-trainable params: 0\n",
      "_________________________________________________________________\n"
     ]
    }
   ],
   "source": [
    "from keras.utils import to_categorical\n",
    "\n",
    "#for some reason this wouldn't compile until I re-loaded the data. not sure why\n",
    "(train_images, train_labels), (test_images, test_labels) = fashion_mnist.load_data()\n",
    "\n",
    "train_images = train_images.reshape((60000, 784)) #combines 28 by 28 graph into a single 1d vector\n",
    "test_images = test_images.reshape((10000, 784))\n",
    "\n",
    "#cast image sectors to a float value\n",
    "train_images = train_images.astype('float32') / 255\n",
    "test_images = test_images.astype('float32') /255\n",
    "\n",
    "train_labels = to_categorical(train_labels)\n",
    "test_labels = to_categorical(test_labels)\n",
    "\n",
    "layercake = models.Sequential()\n",
    "layercake.add(layers.Dense(1024, activation='relu', input_shape=(784,)))\n",
    "\n",
    "#got advice from a friend to use adam, dropout, and binary crossentropy. I was not dissapointed\n",
    "layercake.add(layers.Dropout(0.02))\n",
    "\n",
    "#layercake.add(layers.Flatten())\n",
    "layercake.add(layers.Dense(64, activation='relu'))\n",
    "layercake.add(layers.Dense(10, activation='softmax'))\n",
    "\n",
    "\n",
    "layercake.compile(optimizer='adam',\n",
    "                  loss='binary_crossentropy',\n",
    "                  metrics=['accuracy'])\n",
    "\n",
    "\n",
    "layercake.summary()"
   ]
  },
  {
   "cell_type": "code",
   "execution_count": 59,
   "metadata": {},
   "outputs": [
    {
     "name": "stdout",
     "output_type": "stream",
     "text": [
      "Epoch 1/5\n",
      "60000/60000 [==============================] - 8s 127us/step - loss: 0.0859 - acc: 0.9658\n",
      "Epoch 2/5\n",
      "60000/60000 [==============================] - 7s 109us/step - loss: 0.0636 - acc: 0.9746\n",
      "Epoch 3/5\n",
      "60000/60000 [==============================] - 7s 110us/step - loss: 0.0578 - acc: 0.9767\n",
      "Epoch 4/5\n",
      "60000/60000 [==============================] - 7s 111us/step - loss: 0.0544 - acc: 0.9781\n",
      "Epoch 5/5\n",
      "60000/60000 [==============================] - 7s 109us/step - loss: 0.0511 - acc: 0.9795\n",
      "10000/10000 [==============================] - 1s 84us/step\n"
     ]
    },
    {
     "data": {
      "text/plain": [
       "[0.06477573670744896, 0.9738900044441223]"
      ]
     },
     "execution_count": 59,
     "metadata": {},
     "output_type": "execute_result"
    }
   ],
   "source": [
    "layercake.fit(train_images, train_labels, epochs=5, batch_size=128)\n",
    "\n",
    "layercake.evaluate(test_images, test_labels)"
   ]
  }
 ],
 "metadata": {
  "kernelspec": {
   "display_name": "Python 3",
   "language": "python",
   "name": "python3"
  },
  "language_info": {
   "codemirror_mode": {
    "name": "ipython",
    "version": 3
   },
   "file_extension": ".py",
   "mimetype": "text/x-python",
   "name": "python",
   "nbconvert_exporter": "python",
   "pygments_lexer": "ipython3",
   "version": "3.7.1"
  }
 },
 "nbformat": 4,
 "nbformat_minor": 2
}
