{
 "cells": [
  {
   "cell_type": "markdown",
   "metadata": {},
   "source": [
    "# City Architect - Proposal\n",
    "Author: Andrew Quist  |  Class: CS 344  |  Calvin College  |  Professor: Keith Van der Linden\n",
    "\n",
    "# Vision\n",
    "> Give an overview of the project and its purpose. \n",
    "\n",
    "The largest distinction between many cities is their signature architectural styles. Chicago has modern glass megaliths standing beside turn-of-the-century clock towers. Tokyo has unending rows of neon signs. Madrid is a spider web of cobbled streets and stone facades. This is why I want to make an AI architect for my final project, implementing sufficiently optimized GOFAI principles. Paired with the right genre (in this case, near-future science fiction), this would make a compelling environment for storytelling and gameplay.\n",
    "\n",
    "# Background\n",
    "> Describe the technologies you’re using and why you chose them. Include citations of the work on which you’ve based your system. Include citations for the technologies we’ve covered in class (no description is required for these) and the new technologies you’ve experimented with (include descriptions of these).\n",
    "\n",
    "Procedural generation is a growing technique in the entertainment industry. Used extensively in games like [No Man's Sky](https://en.wikipedia.org/wiki/No_Man%27s_Sky) and [Sir, You are Being Hunted](https://en.wikipedia.org/wiki/Sir,_You_Are_Being_Hunted), procedural generation is used to generate large and unique environments for player exploration. While these techniques are typically used for terrain and vegetation, they can be applied to any type of environment. This is an exciting new frontier in interactive mediums, and is constantly being used in creative new ways.\n",
    "\n",
    "As someone interested in cities, I would like to make an algorithm that designs large, scalable downtown environments. I have spent the past year making tools to generate complex 3d shapes, and the past two months have been dedicated to using these tools to generate roads and intersections. My platform of choice is [Unity](https://unity.com/): a game engine that is deceptively simple and powerfully complex. Now comes the fun part - architecture.\n",
    "\n",
    "Perhaps the most cited article for procedural city generation is Parish and Muller's paper titled [Procedural Modeling of Cities](https://cgl.ethz.ch/Downloads/Publications/Papers/2001/p_Par01.pdf). Many developers in the procedural generation community claim it to be the golden standard of city generation techniques, while others pan it as unnecessarily obfuscated. Most agree, however, that Parish and Muller were ahead of their time. This paper implements a mathematical model called L-systems to recreate the organic nature of road maps. Their focus is mainly on roads and intersections in this paper, but they do talk about placing and generating buildings. However, their model is simplistic, generating boxy, rectangular buildings. My goal is to make an algorithm that exceeds Parish and Muller's architectual complexity by using the same methods they implemented to generate road maps, adding an AI algorithm to maximize this complexity.\n",
    "\n",
    "I've chosen a CSP-solver to design my buildings. This way, certain constraints like building height and base size can be easily enforced by a human designer (me). The CSP also serves as a \"fashion police\", enforcing stylistic decisions that match surrounding buildings. These aesthetic rules (things like \"how curved can a wall be?\", or \"how many sections can the main tower be split into?\") can be enforced by a random number generator, or dictated by the designer.\n",
    "\n",
    "\n",
    "# Implementation\n",
    "> Summarize your implementation and, if appropriate, how it extends on the work you’ve referenced.\n",
    "\n",
    "Parish and Muller use a form of language-based string concatenations to generate roadmaps. I will use a form of language-based string concatenations to generate buildings.\n",
    "\n",
    "The 'DNA' of a building will look something like this:\n",
    "\n",
    "*B - E - R - S - E - R*\n",
    "\n",
    "Interpretation:\n",
    "\n",
    "The string is read into the generator left to right.\n",
    "\n",
    "'B' means Base. It establishes the base outline of the building. In more extensive implementation, it would likely determine how many sides it has, and how curved/beveled it would be.\n",
    "\n",
    "'E' means Extrude. It takes the outline and extrudes it upwards. A circular line is extruded into a cylinder. A square outline is extruded into a cube. This extrusion varies on how tall the building is supposed to be. Windows can be added to these extrusions by simply applying a window texture to the model (already handled by my shape-generating tools).\n",
    "\n",
    "'R' means Roof. It caps off the roof of the previous extrusion.\n",
    "\n",
    "'S' means Shrink. It shrinks the outline of the building for future extrusion.\n",
    "\n",
    "Generation of these strings is done by a graph search. A state machine is constructed to avoid obvious mistakes (such as extruding walls without roofs, or not extruding a manipulated outline). The CSP-solver determines whether the string is legal (for instance, not allowing 'S' if the outline is too small for structural integrity).\n",
    "\n",
    "In theory, adding enough complexity to this system would make wide variations of buildings (which aids in the explore-ability of the environment).\n",
    "\n",
    "\n",
    "# Results\n",
    "TBD\n",
    "\n",
    "# Implications\n",
    "> Discuss the social and ethical implications of using the technologies you’ve chosen for your project. \n",
    "\n",
    "I've been posting early versions of this project on the internet. One of my [screenshots](https://i.redd.it/27bpjpu24ou21.png) is now the 3rd highest post (of all time) in a forum of roughly 60,000 users. There is a clear demand for a system like this. I'm rash enough to believe that it's my best shot at releasing a mildly-successful video game. Of course, dreams are often stamped out in the entertainment industry. For now I'll keep improving my procedural algorithm and maintain a healthy dose of realism."
   ]
  }
 ],
 "metadata": {
  "kernelspec": {
   "display_name": "Python 3",
   "language": "python",
   "name": "python3"
  },
  "language_info": {
   "codemirror_mode": {
    "name": "ipython",
    "version": 3
   },
   "file_extension": ".py",
   "mimetype": "text/x-python",
   "name": "python",
   "nbconvert_exporter": "python",
   "pygments_lexer": "ipython3",
   "version": "3.7.2"
  }
 },
 "nbformat": 4,
 "nbformat_minor": 2
}
