{
 "cells": [
  {
   "cell_type": "markdown",
   "metadata": {},
   "source": [
    "# Updates\n",
    "\n",
    "## added functions\n",
    "\n",
    "-created a function that adds insets to a building's outline\n",
    "\n",
    "-created a function that adds outsets to a building's outline\n",
    "\n",
    "-created a function that detects if a building's outline overlaps with itslef. I used it to make sure a building doesn't 'bug out' and look wrong\n",
    "\n",
    "-created buttons for setting stylistic guidelines for each building\n",
    "\n",
    "-greatly increased the code documentation"
   ]
  }
 ],
 "metadata": {
  "kernelspec": {
   "display_name": "Python 3",
   "language": "python",
   "name": "python3"
  },
  "language_info": {
   "codemirror_mode": {
    "name": "ipython",
    "version": 3
   },
   "file_extension": ".py",
   "mimetype": "text/x-python",
   "name": "python",
   "nbconvert_exporter": "python",
   "pygments_lexer": "ipython3",
   "version": "3.7.1"
  }
 },
 "nbformat": 4,
 "nbformat_minor": 2
}
