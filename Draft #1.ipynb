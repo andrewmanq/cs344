{
 "cells": [
  {
   "cell_type": "markdown",
   "metadata": {},
   "source": [
    "# FINAL PROJECT\n",
    "## The AI Architect\n",
    "\n",
    "I have always been fascinated by cities, especially the big ones. After seeing Tokyo as a teenager and Jakarta as an adult, I think mega-cities are the most fascinating places on earth (and possibly the universe). People say that imitation is the sincerest form of flattery, which is why I've spent the past few months making my own digital cities.\n",
    "\n",
    "Using [Unity](https://unity.com/), my rendering engine of choice, I've been building my own [procedural generation](https://en.wikipedia.org/wiki/Procedural_generation) tools. This includes generating roads, buildings, and props in real time. For now, I have the roads system just about finished. Now I have to make buildings to populate these roads.\n",
    "\n",
    "![title](https://i.redd.it/63iygjrdecs21.png)\n",
    "\n",
    ">*roads are fully formed, but buildings need diversifying*\n",
    "\n",
    "That's why I want an AI architect to make diverse and interesting buildings. Imagine the infinitely explore-able possibilities of a procedural city - no two streets would ever look the same! I plan to make a way to traverse the city - perhaps a spiderman-style swinging mechanic to keep things interesting. For now, I'm focusing on the actual environment.\n",
    "\n",
    "\n",
    "## Implementation\n",
    "There are very concrete ideas I have for the implementation of this system:\n",
    "\n",
    ">First, I would construct a state machine to determine the basic shapes. It would have states like *build wall* and *add balconies*.\n",
    "\n",
    ">The starting point would be *establish base*, which determines how large and what shape the bottom of our building would be. The end-state would be *cap roof*, signifying the very top of our building.\n",
    "\n",
    ">A graph-searching AI would iterate through different traversals of this graph. Consequently, states are compressed into single-letter representations. Each letter triggers a different function in the building creation process. All letters are concatinated into a string.\n",
    "\n",
    ">After state formulation, a constraint solving problem begins interpreting the commands - making sure that floor plans are large enough, placing windows at appropriate locations, ensuring that the building appears structurally sound, etc. At the end, it would (theoretically) spit out a fully formed and (hopefully) entirely unique building.\n",
    "\n",
    "This is an ambitious project. I fully understand that this is gonna be a lot of work. However, it's a project I'm quite passionate about. Assignment or not, I'll end up working on it anyways."
   ]
  }
 ],
 "metadata": {
  "kernelspec": {
   "display_name": "Python 3",
   "language": "python",
   "name": "python3"
  },
  "language_info": {
   "codemirror_mode": {
    "name": "ipython",
    "version": 3
   },
   "file_extension": ".py",
   "mimetype": "text/x-python",
   "name": "python",
   "nbconvert_exporter": "python",
   "pygments_lexer": "ipython3",
   "version": "3.7.1"
  }
 },
 "nbformat": 4,
 "nbformat_minor": 2
}
